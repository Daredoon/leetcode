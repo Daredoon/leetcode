{
 "cells": [
  {
   "cell_type": "markdown",
   "id": "6da1abd7-0794-487d-9331-a14812084f79",
   "metadata": {},
   "source": [
    "To check if cuda is available for machine learning applications only"
   ]
  },
  {
   "cell_type": "code",
   "execution_count": 10,
   "id": "081d8198-0fdd-404d-8540-c4b4a2f90c1c",
   "metadata": {},
   "outputs": [
    {
     "name": "stdout",
     "output_type": "stream",
     "text": [
      "Number of GPU: 1\n",
      "GPU Name:  NVIDIA GeForce RTX 2060\n",
      "Using device: cuda\n"
     ]
    }
   ],
   "source": [
    "import torch\n",
    "\n",
    "print(\"Number of GPU:\", torch.cuda.device_count())\n",
    "print(\"GPU Name: \", torch.cuda.get_device_name())\n",
    "device = torch.device('cuda' if torch.cuda.is_available() else 'cpu')\n",
    "print('Using device:', device)"
   ]
  },
  {
   "cell_type": "markdown",
   "id": "9cd6264e-f3b5-4ad0-9ffa-03098394112b",
   "metadata": {},
   "source": [
    "Data Structures:\n",
    "\n",
    "1. Arrays\n",
    "2. Linked Lists\n",
    "3. Stacks\n",
    "4. Queues\n",
    "5. Hash Tables\n",
    "6. Trees\n",
    "7. Binary Search Trees\n",
    "8. Heaps\n",
    "9. Graphs\n",
    "10. Trie\n",
    "11. Union Find\n",
    "\n",
    "*Sources:*\n",
    "[LeetCode was HARD until I Learned these 15 Patterns](https://blog.algomaster.io/p/15-leetcode-patterns)"
   ]
  },
  {
   "cell_type": "code",
   "execution_count": null,
   "id": "0e4f8d22-69af-4ee4-86f8-00e55f3ec290",
   "metadata": {},
   "outputs": [],
   "source": []
  }
 ],
 "metadata": {
  "kernelspec": {
   "display_name": "Python 3 (ipykernel)",
   "language": "python",
   "name": "python3"
  },
  "language_info": {
   "codemirror_mode": {
    "name": "ipython",
    "version": 3
   },
   "file_extension": ".py",
   "mimetype": "text/x-python",
   "name": "python",
   "nbconvert_exporter": "python",
   "pygments_lexer": "ipython3",
   "version": "3.12.8"
  }
 },
 "nbformat": 4,
 "nbformat_minor": 5
}
